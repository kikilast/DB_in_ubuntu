{
 "cells": [
  {
   "cell_type": "markdown",
   "metadata": {},
   "source": [
    "# query by pymysql"
   ]
  },
  {
   "cell_type": "code",
   "execution_count": null,
   "metadata": {},
   "outputs": [],
   "source": [
    "import pymysql\n",
    "user = '<account_name>'\n",
    "passw = '<password>'\n",
    "host =  '127.0.0.1'\n",
    "port = 3306\n",
    "database = '<database_name>'\n",
    "conn = pymysql.connect(host=host, port=port, user=user, password=passw db=database)\n",
    "cur.execute(\"\"\"CREATE TABLE test (\n",
    "ID int,\n",
    "name varchar(10)\n",
    "PRIMARY KEY (ID)\n",
    ")\"\"\")\n",
    "conn.commit()\n",
    "conn.close()"
   ]
  },
  {
   "cell_type": "markdown",
   "metadata": {},
   "source": [
    "# insert pandas dataframe into mysql"
   ]
  },
  {
   "cell_type": "code",
   "execution_count": null,
   "metadata": {},
   "outputs": [],
   "source": [
    "import pymysql\n",
    "import pandas as pd\n",
    "from sqlalchemy import create_engine\n",
    "import MySQLdb\n",
    "\n",
    "csv = pd.read_csv('test.csv')  \n",
    "df = pd.DataFrame(csv) \n",
    "\n",
    "user = '<account_name>'\n",
    "passw = '<password>'\n",
    "host =  '127.0.0.1'\n",
    "port = 3306\n",
    "database = '<database_name>'\n",
    "\n",
    "engine = create_engine(\"mysql+pymysql://{0}:{1}@{2}:{3}/{4}?charset=utf8\".format(user,passw,host,port,database)) \n",
    "conn = engine.connect()\n",
    "\n",
    "df.to_sql(name = '<table_name>',con = engine.connect(),if_exists = 'replace')\n",
    "\n",
    "conn.close()"
   ]
  }
 ],
 "metadata": {
  "kernelspec": {
   "display_name": "Python 3",
   "language": "python",
   "name": "python3"
  },
  "language_info": {
   "codemirror_mode": {
    "name": "ipython",
    "version": 3
   },
   "file_extension": ".py",
   "mimetype": "text/x-python",
   "name": "python",
   "nbconvert_exporter": "python",
   "pygments_lexer": "ipython3",
   "version": "3.5.2"
  }
 },
 "nbformat": 4,
 "nbformat_minor": 2
}
